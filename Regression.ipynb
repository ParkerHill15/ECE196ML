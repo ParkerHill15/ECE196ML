{
 "cells": [
  {
   "cell_type": "code",
   "execution_count": 2,
   "metadata": {},
   "outputs": [],
   "source": [
    "import numpy as np\n",
    "import matplotlib.pyplot as plt\n",
    "from sklearn.linear_model import LinearRegression "
   ]
  },
  {
   "cell_type": "code",
   "execution_count": 3,
   "metadata": {},
   "outputs": [],
   "source": [
    "#obtain data from website"
   ]
  },
  {
   "cell_type": "code",
   "execution_count": 6,
   "metadata": {},
   "outputs": [
    {
     "name": "stdout",
     "output_type": "stream",
     "text": [
      "[]\n",
      "[[ 0  5 10]\n",
      " [ 1  3  7]\n",
      " [ 2 15 20]\n",
      " [ 3 23 27]\n",
      " [ 4  2  3]\n",
      " [ 5 19 25]]\n",
      "[[ 0  5 10]\n",
      " [ 1  3  7]]\n"
     ]
    }
   ],
   "source": [
    "#format data into weeks, defence, and fantacy points\n",
    "trainingExample = np.array([[0,5,10],[1,3,7],[2,15,20],[3,23,27],[4,2,3],[5,19,25]])\n",
    "testingExample = np.array([[0,4,11],[1,5,8],[2,13,15],[3,17,20],[4,1,2],[5,17,22]])\n",
    "datapoints = []\n",
    "print(datapoints)\n",
    "print(trainingExample)\n",
    "trainingsubset=trainingExample[:2,:5]\n",
    "print(trainingsubset)"
   ]
  },
  {
   "cell_type": "code",
   "execution_count": 62,
   "metadata": {},
   "outputs": [
    {
     "data": {
      "text/plain": [
       "(array([[ 1.,  3.,  5., 10.,  5., 10.,  5., 10.,  5., 10.,  5., 10.],\n",
       "        [ 2., 15.,  3.,  7.,  3.,  7.,  3.,  7.,  3.,  7.,  5., 10.],\n",
       "        [ 3., 23., 15., 20., 15., 20., 15., 20.,  3.,  7.,  5., 10.],\n",
       "        [ 4.,  2., 23., 27., 23., 27., 15., 20.,  3.,  7.,  5., 10.],\n",
       "        [ 5., 19.,  2.,  3., 23., 27., 15., 20.,  3.,  7.,  5., 10.]]),\n",
       " array([[ 7.],\n",
       "        [20.],\n",
       "        [27.],\n",
       "        [ 3.],\n",
       "        [25.]]))"
      ]
     },
     "execution_count": 62,
     "metadata": {},
     "output_type": "execute_result"
    }
   ],
   "source": [
    "#function to format data into data points\n",
    "def makeDataPoints(data):\n",
    "    newDataPoints=np.empty([len(data)-1,12])\n",
    "    newTargets=np.empty([len(data)-1,1])\n",
    "    for g in range(len(data)):\n",
    "        datapoint = 0\n",
    "        d0,fp0 =data[g,1], data[g,2]\n",
    "        if g == 1:\n",
    "            d1,fp1=data[g-1,1], data[g-1,2]\n",
    "            datapoint=np.array([g,d0,d1,fp1,d1,fp1,d1,fp1,d1,fp1,d1,fp1])\n",
    "        if g == 2:\n",
    "            d1,fp1=data[g-1,1], data[g-1,2]\n",
    "            d2,fp2=data[g-2,1], data[g-2,2]\n",
    "            datapoint=np.array([g,d0,d1,fp1,d1,fp1,d1,fp1,d1,fp1,d2,fp2])\n",
    "        if g == 3:\n",
    "            d1,fp1=data[g-1,1], data[g-1,2]\n",
    "            d2,fp2=data[g-2,1], data[g-2,2]\n",
    "            d3,fp3=data[g-3,1], data[g-3,2]\n",
    "            datapoint=np.array([g,d0,d1,fp1,d1,fp1,d1,fp1,d2,fp2,d3,fp3])\n",
    "        if g == 4:\n",
    "            d1,fp1=data[g-1,1], data[g-1,2]\n",
    "            d2,fp2=data[g-2,1], data[g-2,2]\n",
    "            d3,fp3=data[g-3,1], data[g-3,2]\n",
    "            d4,fp4=data[g-4,1], data[g-4,2]\n",
    "            datapoint=np.array([g,d0,d1,fp1,d1,fp1,d2,fp2,d3,fp3,d4,fp4])\n",
    "        if g >= 5:\n",
    "            d1,fp1=data[g-1,1], data[g-1,2]\n",
    "            d2,fp2=data[g-2,1], data[g-2,2]\n",
    "            d3,fp3=data[g-3,1], data[g-3,2]\n",
    "            d4,fp4=data[g-4,1], data[g-4,2]\n",
    "            d5,fp5=data[g-5,1], data[g-5,2]\n",
    "            datapoint=np.array([g,d0,d1,fp1,d2,fp2,d3,fp3,d4,fp4,d5,fp5])\n",
    "        newTargets[g-1]=fp0\n",
    "        newDataPoints[g-1]=datapoint\n",
    "    return newDataPoints, newTargets\n",
    "makeDataPoints(trainingExample)"
   ]
  },
  {
   "cell_type": "code",
   "execution_count": 63,
   "metadata": {},
   "outputs": [],
   "source": [
    "#format 2002-2018 into training data points"
   ]
  },
  {
   "cell_type": "code",
   "execution_count": 64,
   "metadata": {},
   "outputs": [],
   "source": [
    "#format 2019 into testing data points"
   ]
  },
  {
   "cell_type": "code",
   "execution_count": 65,
   "metadata": {},
   "outputs": [
    {
     "name": "stdout",
     "output_type": "stream",
     "text": [
      "[[ 0.0246618   1.02655186 -0.10209197 -0.09916772 -0.06742029 -0.05954295\n",
      "   0.12267215  0.10678794 -0.06265653 -0.0939848   0.          0.        ]] [5.90224107]\n"
     ]
    }
   ],
   "source": [
    "#Train regression to get weights and bias\n",
    "#weightsAndBias = LinearRegression().fit(X_train, Y_train)\n",
    "training_X,training_Y=makeDataPoints(trainingExample)#replace with 2002-2018 datapoints\n",
    "testing_X,testing_Y=makeDataPoints(testingExample)#replace with 2019 datapoints\n",
    "weightsAndBias = LinearRegression().fit(training_X,training_Y)\n",
    "w = weightsAndBias.coef_\n",
    "b = weightsAndBias.intercept_\n",
    "print(w, b)"
   ]
  },
  {
   "cell_type": "code",
   "execution_count": 56,
   "metadata": {},
   "outputs": [
    {
     "data": {
      "text/plain": [
       "[<matplotlib.lines.Line2D at 0x22cb5ff98e0>]"
      ]
     },
     "execution_count": 56,
     "metadata": {},
     "output_type": "execute_result"
    },
    {
     "data": {
      "image/png": "[encoded data removed]",
      "text/plain": [
       "<Figure size 432x288 with 1 Axes>"
      ]
     },
     "metadata": {
      "needs_background": "light"
     },
     "output_type": "display_data"
    }
   ],
   "source": [
    "plt.scatter(training_X[:,1],training_Y,c=\"blue\")\n",
    "plt.scatter(testing_X[:,1],testing_Y,c=\"green\")\n",
    "X_range = np.linspace(0,30,30)\n",
    "Y_range = (b + w[:,1]*X_range)\n",
    "plt.plot(X_range,Y_range)"
   ]
  },
  {
   "cell_type": "code",
   "execution_count": 61,
   "metadata": {},
   "outputs": [
    {
     "name": "stdout",
     "output_type": "stream",
     "text": [
      "Training regression errors are:\n",
      "[1.12504548e-14]\n",
      "Testing regression errors are:\n",
      "[1.47033572]\n"
     ]
    }
   ],
   "source": [
    "def regression_error(x, y, w, b):\n",
    "    regression_error = 0\n",
    "    for i in range(len(x)):\n",
    "        # TODO: ******** To be filled ********\n",
    "        # prediction based on x \n",
    "        yhat=w.transpose().dot(x[i])+b\n",
    "        # regression error, doing the sum \n",
    "        regression_error=regression_error+((yhat-y[i])**2)\n",
    "    # calculate the mean and square root \n",
    "    regression_error=(regression_error/len(x))**(1/2)\n",
    "    return regression_error\n",
    "\n",
    "w2 = np.squeeze(np.asarray(w))\n",
    "print('Training regression errors are:')\n",
    "print(regression_error(training_X, training_Y, w2, b2))\n",
    "print('Testing regression errors are:')\n",
    "print(regression_error(testing_X, testing_Y, w2, b))"
   ]
  },
  {
   "cell_type": "code",
   "execution_count": null,
   "metadata": {},
   "outputs": [],
   "source": []
  }
 ],
 "metadata": {
  "kernelspec": {
   "display_name": "Python 3",
   "language": "python",
   "name": "python3"
  },
  "language_info": {
   "codemirror_mode": {
    "name": "ipython",
    "version": 3
   },
   "file_extension": ".py",
   "mimetype": "text/x-python",
   "name": "python",
   "nbconvert_exporter": "python",
   "pygments_lexer": "ipython3",
   "version": "3.8.6"
  }
 },
 "nbformat": 4,
 "nbformat_minor": 4
}
