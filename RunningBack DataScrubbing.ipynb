{
 "cells": [
  {
   "cell_type": "code",
   "execution_count": 3,
   "metadata": {},
   "outputs": [],
   "source": [
    "# Importing all necessary libraries for the proper scrubbing of all data\n",
    "from bs4 import BeautifulSoup\n",
    "import numpy as np\n",
    "import pandas as pd\n",
    "import requests\n",
    "import time"
   ]
  },
  {
   "cell_type": "code",
   "execution_count": 3,
   "metadata": {},
   "outputs": [],
   "source": [
    "# Creating \n",
    "data = pd.DataFrame()\n",
    "for i in range(2002,2020):\n",
    "    url_text = requests.get(f'https://www.pro-football-reference.com/years/{i}/opp.htm').text\n",
    "    soup = BeautifulSoup(url_text)\n",
    "    teams = []\n",
    "    iterator = 0\n",
    "    for x in range(0,32):\n",
    "        teams.append(soup.find_all('td')[iterator].text)\n",
    "        iterator += 27\n",
    "    data[f'{i}'] = teams\n",
    "data.to_csv('Defense.csv')"
   ]
  },
  {
   "cell_type": "code",
   "execution_count": 4,
   "metadata": {},
   "outputs": [],
   "source": [
    "#This will be a function which will be called which correlates a teams 3 letter acronym to their actual team\n",
    "def findTeam(name,year):\n",
    "    team = ''\n",
    "    if name == 'ARI': team = 'Arizona Cardinals'\n",
    "    elif name == 'ATL': team = 'Atlanta Falcons'\n",
    "    elif name == 'BAL': team = 'Baltimore Ravens'\n",
    "    elif name == 'BUF': team = 'Buffalo Bills'\n",
    "    elif name == 'CAR': team = 'Carolina Panthers'\n",
    "    elif name == 'CHI': team = 'Chicago Bears'\n",
    "    elif name == 'CIN': team = 'Cincinnati Bengals'\n",
    "    elif name == 'CLE': team = 'Cleveland Browns'\n",
    "    elif name == 'DAL': team = 'Dallas Cowboys'\n",
    "    elif name == 'DEN': team = 'Denver Broncos'\n",
    "    elif name == 'DET': team = 'Detroit Lions'\n",
    "    elif name == 'GNB': team = 'Green Bay Packers'\n",
    "    elif name == 'HOU': team = 'Houston Texans'\n",
    "    elif name == 'IND': team = 'Indianapolis Colts'\n",
    "    elif name == 'JAX': team = 'Jacksonville Jaguars'\n",
    "    elif name == 'KAN': team = 'Kansas City Chiefs'\n",
    "    elif name == 'MIA': team = 'Miami Dolphins'\n",
    "    elif name == 'MIN': team = 'Minnesota Vikings'\n",
    "    elif name == 'NWE': team = 'New England Patriots'\n",
    "    elif name == 'NOR': team = 'New Orlean Saints'\n",
    "    elif name == 'NYG': team = 'New York Giants'\n",
    "    elif name == 'NYJ': team = 'New York Jets'\n",
    "    elif name == 'LVR': team = 'Las Vegas Raiders'\n",
    "    elif name == 'PHI': team = 'Philadelphia Eagles'\n",
    "    elif name == 'PIT': team = 'Pittsburgh Steelers'\n",
    "    elif name == 'LAC': team = 'Los Angeles Chargers'\n",
    "    elif name == 'SFO': team = 'San Francisco 49ers'\n",
    "    elif name == 'SEA': team = 'Seattle Seahawks'\n",
    "    elif name == 'LAR': team = 'Los Angeles Rams'\n",
    "    elif name == 'TAM': team = 'Tampa Bay Buccaneers'\n",
    "    elif name == 'TEN': team = 'Tennessee Titans'\n",
    "    elif name == 'WAS': team = 'Washington Football Team'\n",
    "    #Special Boys\n",
    "    elif name == 'SDG': team = 'San Diego Chargers'\n",
    "    elif name == 'STL': team = 'St. Louis Rams'\n",
    "    elif name == 'OAK': team = 'Oakland Raiders'\n",
    "    data = pd.read_csv(r'C:\\Users\\Parker Hill\\Desktop\\ECE 196\\NFL Running Back\\Defense.csv')\n",
    "    frame = pd.DataFrame(data)\n",
    "    for i in range(0,32):\n",
    "        iterativeteam = frame[str(year)][i]\n",
    "        if iterativeteam == team:\n",
    "            rank = i\n",
    "            break\n",
    "    return rank + 1"
   ]
  },
  {
   "cell_type": "code",
   "execution_count": 9,
   "metadata": {},
   "outputs": [
    {
     "ename": "NameError",
     "evalue": "name 'fb' is not defined",
     "output_type": "error",
     "traceback": [
      "\u001b[1;31m---------------------------------------------------------------------------\u001b[0m",
      "\u001b[1;31mNameError\u001b[0m                                 Traceback (most recent call last)",
      "\u001b[1;32m<ipython-input-9-c58013c05278>\u001b[0m in \u001b[0;36m<module>\u001b[1;34m\u001b[0m\n\u001b[0;32m     17\u001b[0m         \u001b[0murlname\u001b[0m \u001b[1;33m=\u001b[0m \u001b[1;34m''\u001b[0m\u001b[1;33m\u001b[0m\u001b[1;33m\u001b[0m\u001b[0m\n\u001b[0;32m     18\u001b[0m         \u001b[0mtitle\u001b[0m \u001b[1;33m=\u001b[0m \u001b[0msoup\u001b[0m\u001b[1;33m.\u001b[0m\u001b[0mfind_all\u001b[0m\u001b[1;33m(\u001b[0m\u001b[1;34m'td'\u001b[0m\u001b[1;33m)\u001b[0m\u001b[1;33m[\u001b[0m\u001b[0miterator\u001b[0m\u001b[1;33m+\u001b[0m\u001b[1;36m3\u001b[0m\u001b[1;33m]\u001b[0m\u001b[1;33m.\u001b[0m\u001b[0mtext\u001b[0m\u001b[1;33m\u001b[0m\u001b[1;33m\u001b[0m\u001b[0m\n\u001b[1;32m---> 19\u001b[1;33m         \u001b[1;32mif\u001b[0m \u001b[0mtitle\u001b[0m \u001b[1;33m!=\u001b[0m \u001b[1;34m'RB'\u001b[0m \u001b[1;32mand\u001b[0m \u001b[0mtitle\u001b[0m \u001b[1;33m!=\u001b[0m \u001b[1;34m'rb'\u001b[0m\u001b[1;32mand\u001b[0m \u001b[0mtitle\u001b[0m \u001b[1;33m!=\u001b[0m \u001b[0mfb\u001b[0m \u001b[1;32mand\u001b[0m \u001b[0mtitle\u001b[0m \u001b[1;33m!=\u001b[0m \u001b[0mFB\u001b[0m\u001b[1;33m:\u001b[0m\u001b[1;33m\u001b[0m\u001b[1;33m\u001b[0m\u001b[0m\n\u001b[0m\u001b[0;32m     20\u001b[0m             \u001b[0miterator\u001b[0m \u001b[1;33m+=\u001b[0m \u001b[1;36m14\u001b[0m\u001b[1;33m\u001b[0m\u001b[1;33m\u001b[0m\u001b[0m\n\u001b[0;32m     21\u001b[0m             \u001b[0mprint\u001b[0m\u001b[1;33m(\u001b[0m\u001b[0mtitle\u001b[0m\u001b[1;33m)\u001b[0m\u001b[1;33m\u001b[0m\u001b[1;33m\u001b[0m\u001b[0m\n",
      "\u001b[1;31mNameError\u001b[0m: name 'fb' is not defined"
     ]
    }
   ],
   "source": [
    "#https://www.pro-football-reference.com/years/2002/rushing.htm\n",
    "#Need to make it so that names and acronyms are saved for in a list so that they can be referenced for urls\n",
    "#Need to make it so that if the player is not RB or rb, then it skips\n",
    "rb_data = pd.DataFrame()\n",
    "rb_data['Year'] = []\n",
    "rb_data['Name'] = []\n",
    "rb_data['URLName']= []\n",
    "for year in range(2002,2020):\n",
    "    url_text = requests.get(f'https://www.pro-football-reference.com/years/{year}/rushing.htm').text\n",
    "    soup = BeautifulSoup(url_text)\n",
    "    iterator = 0\n",
    "    years = []\n",
    "    name = []\n",
    "    url = []\n",
    "    for x in range(0,32):\n",
    "        newstr = ''\n",
    "        urlname = ''\n",
    "        title = soup.find_all('td')[iterator+3].text\n",
    "        if title != 'RB' and title != 'rb'and title != fb and title != FB:\n",
    "            iterator += 14\n",
    "            print(title)\n",
    "            continue\n",
    "        player = soup.find_all('td')[iterator].text\n",
    "        alphabet = 'ABCDEFGHIJKLMNOPQRSTUVWXYZabcdefghijklmnopqrstuvwxyz '\n",
    "        for i in range(0,len(player)):\n",
    "            if alphabet.find(player[i]) != -1:\n",
    "                newstr += player[i]\n",
    "        for i in range(0,len(newstr)):\n",
    "            if newstr[i] == ' ':\n",
    "                urlname = newstr[i+1]+newstr[i+2]+newstr[i+3]+newstr[i+4]\n",
    "                break\n",
    "        urlname = urlname + player[0] + player[1] + '00'\n",
    "        new_row = {'Year':year,'Name':newstr,'URLName':urlname}\n",
    "        rb_data = rb_data.append(new_row,ignore_index = True)\n",
    "        iterator += 14\n",
    "print(rb_data)"
   ]
  },
  {
   "cell_type": "code",
   "execution_count": 18,
   "metadata": {},
   "outputs": [],
   "source": [
    "#Run to commit running back information into a csv file\n",
    "rb_data.to_csv('RunningBacks.csv')"
   ]
  },
  {
   "cell_type": "code",
   "execution_count": 18,
   "metadata": {},
   "outputs": [
    {
     "name": "stdout",
     "output_type": "stream",
     "text": [
      "WillRi00\n",
      "1\n",
      "MIA\n",
      "4\n",
      "23.10\n"
     ]
    }
   ],
   "source": [
    "newrbdata = pd.read_csv(r'C:\\Users\\Parker Hill\\Desktop\\ECE 196\\NFL Running Back\\RunningBacks.csv')\n",
    "gamedata = pd.DataFrame()\n",
    "gamedata['Week'] = []\n",
    "gamedata['Opponent'] = []\n",
    "gamedata['Rank'] = []\n",
    "gamedata['Fantasy']=[]\n",
    "rbframe = pd.DataFrame(newrbdata)\n",
    "year = int(rbframe['Year'][0])\n",
    "urlname = rbframe['URLName'][0]\n",
    "print(urlname)\n",
    "#NEED TO IMPLEMENT ERROR HANDLING OF IF ADDRESS BOUNCES\n",
    "blah = requests.get(f'https://www.pro-football-reference.com/players/W/{urlname}/fantasy/{year}/')\n",
    "url_text = requests.get(f'https://www.pro-football-reference.com/players/W/{urlname}/fantasy/{year}/').text\n",
    "soup = BeautifulSoup(url_text)\n",
    "week = soup.find_all('td')[0].text\n",
    "opponent = soup.find_all('td')[2].text\n",
    "rank = findTeam(opponent,year)\n",
    "fantasy = soup.find_all('td')[21].text\n",
    "print(week)\n",
    "print(opponent)\n",
    "print(rank)\n",
    "print(fantasy)"
   ]
  },
  {
   "cell_type": "code",
   "execution_count": null,
   "metadata": {},
   "outputs": [],
   "source": []
  }
 ],
 "metadata": {
  "kernelspec": {
   "display_name": "Python 3",
   "language": "python",
   "name": "python3"
  },
  "language_info": {
   "codemirror_mode": {
    "name": "ipython",
    "version": 3
   },
   "file_extension": ".py",
   "mimetype": "text/x-python",
   "name": "python",
   "nbconvert_exporter": "python",
   "pygments_lexer": "ipython3",
   "version": "3.7.1"
  }
 },
 "nbformat": 4,
 "nbformat_minor": 2
}
