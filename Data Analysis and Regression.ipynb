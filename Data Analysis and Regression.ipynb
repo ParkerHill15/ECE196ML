{
 "cells": [
  {
   "cell_type": "code",
   "execution_count": 7,
   "metadata": {},
   "outputs": [],
   "source": [
    "import numpy as np\n",
    "import pandas as pd\n",
    "import matplotlib.pyplot as plt\n",
    "from sklearn.linear_model import LinearRegression "
   ]
  },
  {
   "cell_type": "code",
   "execution_count": 8,
   "metadata": {},
   "outputs": [],
   "source": [
    "#function to format data into data points\n",
    "def makeDataPoints(data):\n",
    "    newDataPoints=np.empty([len(data)-1,12])\n",
    "    newTargets=np.empty([len(data)-1,1])\n",
    "    for g in range(len(data)):\n",
    "        datapoint = 0\n",
    "        d0,fp0 =data[g,1], data[g,2]\n",
    "        if g == 1:\n",
    "            d1,fp1=data[g-1,1], data[g-1,2]\n",
    "            datapoint=np.array([g,d0,d1,fp1,d1,fp1,d1,fp1,d1,fp1,d1,fp1])\n",
    "        if g == 2:\n",
    "            d1,fp1=data[g-1,1], data[g-1,2]\n",
    "            d2,fp2=data[g-2,1], data[g-2,2]\n",
    "            datapoint=np.array([g,d0,d1,fp1,d1,fp1,d1,fp1,d1,fp1,d2,fp2])\n",
    "        if g == 3:\n",
    "            d1,fp1=data[g-1,1], data[g-1,2]\n",
    "            d2,fp2=data[g-2,1], data[g-2,2]\n",
    "            d3,fp3=data[g-3,1], data[g-3,2]\n",
    "            datapoint=np.array([g,d0,d1,fp1,d1,fp1,d1,fp1,d2,fp2,d3,fp3])\n",
    "        if g == 4:\n",
    "            d1,fp1=data[g-1,1], data[g-1,2]\n",
    "            d2,fp2=data[g-2,1], data[g-2,2]\n",
    "            d3,fp3=data[g-3,1], data[g-3,2]\n",
    "            d4,fp4=data[g-4,1], data[g-4,2]\n",
    "            datapoint=np.array([g,d0,d1,fp1,d1,fp1,d2,fp2,d3,fp3,d4,fp4])\n",
    "        if g >= 5:\n",
    "            d1,fp1=data[g-1,1], data[g-1,2]\n",
    "            d2,fp2=data[g-2,1], data[g-2,2]\n",
    "            d3,fp3=data[g-3,1], data[g-3,2]\n",
    "            d4,fp4=data[g-4,1], data[g-4,2]\n",
    "            d5,fp5=data[g-5,1], data[g-5,2]\n",
    "            datapoint=np.array([g,d0,d1,fp1,d2,fp2,d3,fp3,d4,fp4,d5,fp5])\n",
    "        newTargets[g-1]=fp0\n",
    "        newDataPoints[g-1]=datapoint\n",
    "    return newDataPoints, newTargets"
   ]
  },
  {
   "cell_type": "code",
   "execution_count": 11,
   "metadata": {},
   "outputs": [
    {
     "name": "stdout",
     "output_type": "stream",
     "text": [
      "[[ 1.   7.  31.  ... 23.1 31.  23.1]\n",
      " [ 2.  14.   7.  ... 25.4 31.  23.1]\n",
      " [ 3.  28.  14.  ... 25.4 31.  23.1]\n",
      " ...\n",
      " [ 8.   3.  11.  ...  5.  15.  10.9]\n",
      " [ 9.   6.   3.  ...  7.9 20.   5. ]\n",
      " [10.   1.   6.  ... 11.4 32.   7.9]]\n"
     ]
    },
    {
     "data": {
      "text/plain": [
       "(5224, 12)"
      ]
     },
     "execution_count": 11,
     "metadata": {},
     "output_type": "execute_result"
    }
   ],
   "source": [
    "#Making data into useable numpy arrays to be passed into the final dataset creation filter\n",
    "data = pd.read_csv(r'C:\\Users\\Zigzagzack\\Desktop\\Fall 2020\\Ece 196\\ECE196ML\\FinalData.csv') #Change to directory that your data is in\n",
    "data = pd.DataFrame(data)\n",
    "length = len(data['Week'])\n",
    "previousweeknum = -1\n",
    "array = np.empty([1,3])\n",
    "dataPoints = np.empty([1,12])\n",
    "targets = np.empty([1,1])\n",
    "for i in range(0,length):\n",
    "    weeknum = data['Week'][i]\n",
    "    if weeknum < previousweeknum:\n",
    "        array = np.delete(array,(0),axis=0) #I dunno how to make a truly empty array, so need to delete the first row each time\n",
    "        #This line you would call your make data points function on with the created array, I used a print statement for verification\n",
    "        newDataPoints,newTargets = makeDataPoints(array)\n",
    "        dataPoints = np.vstack([dataPoints,newDataPoints])\n",
    "        targets = np.vstack([targets,newTargets])\n",
    "        #print(array)\n",
    "        array = np.empty([1,3])\n",
    "    rank = data['Rank'][i]\n",
    "    fantasy = data['Fantasy'][i]\n",
    "    newrow = np.array([weeknum, rank, fantasy])\n",
    "    array = np.vstack([array, newrow])\n",
    "    previousweeknum = weeknum\n",
    "dataPoints = np.delete(dataPoints,(0),axis=0)\n",
    "targets = np.delete(targets,(0),axis=0)\n",
    "print(dataPoints)\n",
    "dataPoints.shape"
   ]
  },
  {
   "cell_type": "code",
   "execution_count": 12,
   "metadata": {},
   "outputs": [
    {
     "name": "stdout",
     "output_type": "stream",
     "text": [
      "[[ 0.01454819  0.13124392 -0.00078061  0.11215198 -0.02078236  0.08056409\n",
      "  -0.0205653   0.07996239 -0.00564089  0.0617922  -0.01092455  0.10315913]] [5.56364078]\n"
     ]
    }
   ],
   "source": [
    "#Train regression to get weights and bias\n",
    "#weightsAndBias = LinearRegression().fit(X_train, Y_train)\n",
    "weightsAndBias = LinearRegression().fit(dataPoints,targets)\n",
    "w = weightsAndBias.coef_\n",
    "b = weightsAndBias.intercept_\n",
    "print(w, b)"
   ]
  },
  {
   "cell_type": "code",
   "execution_count": 16,
   "metadata": {},
   "outputs": [
    {
     "data": {
      "text/plain": [
       "[<matplotlib.lines.Line2D at 0x14339990a90>]"
      ]
     },
     "execution_count": 16,
     "metadata": {},
     "output_type": "execute_result"
    },
    {
     "data": {
      "image/png": "[encoded data removed]",
      "text/plain": [
       "<Figure size 432x288 with 1 Axes>"
      ]
     },
     "metadata": {
      "needs_background": "light"
     },
     "output_type": "display_data"
    }
   ],
   "source": [
    "plt.scatter(dataPoints[:,1],targets,c=\"blue\")\n",
    "X_range = np.linspace(-2,35,30)\n",
    "Y_range = (b + w[:,1]*X_range)\n",
    "plt.plot(X_range,Y_range)"
   ]
  },
  {
   "cell_type": "code",
   "execution_count": 15,
   "metadata": {},
   "outputs": [
    {
     "name": "stdout",
     "output_type": "stream",
     "text": [
      "Training regression errors are:\n",
      "[7.48258674]\n"
     ]
    }
   ],
   "source": [
    "def regression_error(x, y, w, b):\n",
    "    regression_error = 0\n",
    "    for i in range(len(x)):\n",
    "        # TODO: ******** To be filled ********\n",
    "        # prediction based on x \n",
    "        yhat=w.transpose().dot(x[i])+b\n",
    "        # regression error, doing the sum \n",
    "        regression_error=regression_error+((yhat-y[i])**2)\n",
    "    # calculate the mean and square root \n",
    "    regression_error=(regression_error/len(x))**(1/2)\n",
    "    return regression_error\n",
    "\n",
    "w2 = np.squeeze(np.asarray(w))\n",
    "print('Training regression errors are:')\n",
    "print(regression_error(dataPoints, targets, w2, b))"
   ]
  },
  {
   "cell_type": "code",
   "execution_count": null,
   "metadata": {},
   "outputs": [],
   "source": []
  }
 ],
 "metadata": {
  "kernelspec": {
   "display_name": "Python 3",
   "language": "python",
   "name": "python3"
  },
  "language_info": {
   "codemirror_mode": {
    "name": "ipython",
    "version": 3
   },
   "file_extension": ".py",
   "mimetype": "text/x-python",
   "name": "python",
   "nbconvert_exporter": "python",
   "pygments_lexer": "ipython3",
   "version": "3.8.6"
  }
 },
 "nbformat": 4,
 "nbformat_minor": 4
}
